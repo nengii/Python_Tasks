{
 "cells": [
  {
   "cell_type": "code",
   "execution_count": 30,
   "metadata": {},
   "outputs": [],
   "source": [
    "# Define the students names for each track in the nested dictionary.\n",
    "# Then using the set() function to remove duplicates and the list() function to convert the set back to a list as the final output.\n",
    "students = {\n",
    "    'cloud': list(set(['Amaka disappoint', 'Nedu japan', 'Pretty cynthia', 'Nedu japan', 'Pretty cynthia', 'Pretty Cynthia'])),\n",
    "    'data': list(set(('jon doe', 'john doe', 'john doe', 'jon bellion', 'jon bellion', 'john bellcat', 'jon doe'))),\n",
    "    'mobile': list(set({'ada ada', 'pyhon ezege', 'dog catcher', 'bitrus beetroot', 'doja cat', 'beja rat'}))\n",
    "}\n"
   ]
  },
  {
   "cell_type": "code",
   "execution_count": 31,
   "metadata": {},
   "outputs": [],
   "source": [
    "# Define the scores for each student in each track. Note that the scores correspond with the updated student names.\n",
    "# This is to ensure that each score is allocated to one student. \n",
    "students_scores = {\n",
    "    'cloud': [70, 90, 80, 95],\n",
    "    'data': [60, 92, 70, 88],\n",
    "    'mobile': [98, 80, 75, 70, 85, 90]\n",
    "}\n"
   ]
  },
  {
   "cell_type": "code",
   "execution_count": 35,
   "metadata": {},
   "outputs": [
    {
     "name": "stdout",
     "output_type": "stream",
     "text": [
      "The top student for cloud track is Pretty cynthia with a score of 95.\n",
      "The top student for data track is jon bellion with a score of 92.\n",
      "The top student for mobile track is bitrus beetroot with a score of 98.\n"
     ]
    }
   ],
   "source": [
    "# Loop through each track in the students_scores dictionary to find the top student in each track.\n",
    "for track, scores in students_scores.items():\n",
    "    # Find the name of the top student for the current track using the index of the highest score\n",
    "    top_student = students[track][scores.index(max(scores))]\n",
    "    # Print the name and score of the top student in the current track.\n",
    "    print(f\"The top student for {track} track is {top_student} with a score of {max(scores)}.\")\n"
   ]
  }
 ],
 "metadata": {
  "kernelspec": {
   "display_name": "base",
   "language": "python",
   "name": "python3"
  },
  "language_info": {
   "codemirror_mode": {
    "name": "ipython",
    "version": 3
   },
   "file_extension": ".py",
   "mimetype": "text/x-python",
   "name": "python",
   "nbconvert_exporter": "python",
   "pygments_lexer": "ipython3",
   "version": "3.9.13"
  },
  "orig_nbformat": 4,
  "vscode": {
   "interpreter": {
    "hash": "263930470851f494f0ed2879c35b57985588df20f9e529b86e97dd5eb9ddc466"
   }
  }
 },
 "nbformat": 4,
 "nbformat_minor": 2
}
