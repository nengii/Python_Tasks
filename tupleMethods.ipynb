{
 "cells": [
  {
   "attachments": {},
   "cell_type": "markdown",
   "metadata": {},
   "source": [
    "# Tuple Methods\n",
    "- Count()\n",
    "- Index()\n",
    "- Len()\n",
    "- Max()\n",
    "- Min()\n",
    "- Sorted()"
   ]
  },
  {
   "cell_type": "code",
   "execution_count": 18,
   "metadata": {},
   "outputs": [],
   "source": [
    "# Tuple example\n",
    "namesOfSiblings = ('Salome', 'Mariam', 'Zac', 'Sandra', 'Nengi', 'Abiye', 'Doug')"
   ]
  },
  {
   "cell_type": "code",
   "execution_count": 19,
   "metadata": {},
   "outputs": [],
   "source": [
    "# Another tuple example\n",
    "ageOfSiblings = (37, 35, 33, 31, 25, 23, 15)"
   ]
  },
  {
   "cell_type": "code",
   "execution_count": 21,
   "metadata": {},
   "outputs": [
    {
     "name": "stdout",
     "output_type": "stream",
     "text": [
      "The count of Sandra in the tuple is: 1\n",
      "The count of 25 in the tuple is: 1\n"
     ]
    }
   ],
   "source": [
    "# Using count() method\n",
    "count = namesOfSiblings.count('Sandra')\n",
    "print(\"The count of Sandra in the tuple is:\", count)\n",
    "\n",
    "count = ageOfSiblings.count(25)\n",
    "print(\"The count of 25 in the tuple is:\", count)"
   ]
  },
  {
   "cell_type": "code",
   "execution_count": 22,
   "metadata": {},
   "outputs": [
    {
     "name": "stdout",
     "output_type": "stream",
     "text": [
      "The index of Abiye in the tuple is: 5\n",
      "The index of 35 in the tuple is: 1\n"
     ]
    }
   ],
   "source": [
    "# Using index() method\n",
    "index = namesOfSiblings.index('Abiye')\n",
    "print(\"The index of Abiye in the tuple is:\", index)\n",
    "\n",
    "index = ageOfSiblings.index(35)\n",
    "print(\"The index of 35 in the tuple is:\", index)"
   ]
  },
  {
   "cell_type": "code",
   "execution_count": 23,
   "metadata": {},
   "outputs": [
    {
     "name": "stdout",
     "output_type": "stream",
     "text": [
      "The length of the first tuple is 7\n",
      "The length of the second tuple is 7\n"
     ]
    }
   ],
   "source": [
    "# Using len() method\n",
    "length = len(namesOfSiblings)\n",
    "print(\"The length of the first tuple is\", length)\n",
    "\n",
    "length = len(ageOfSiblings)\n",
    "print(\"The length of the second tuple is\", length)"
   ]
  },
  {
   "cell_type": "code",
   "execution_count": 24,
   "metadata": {},
   "outputs": [
    {
     "name": "stdout",
     "output_type": "stream",
     "text": [
      "The maximum value element in the first tuple is Zac\n",
      "The maximum value element in the second tuple is 37\n"
     ]
    }
   ],
   "source": [
    "# Using max() method\n",
    "maximum = max(namesOfSiblings)\n",
    "print(\"The maximum value element in the first tuple is\", maximum)\n",
    "\n",
    "maximum = max(ageOfSiblings)\n",
    "print(\"The maximum value element in the second tuple is\", maximum)\n"
   ]
  },
  {
   "cell_type": "code",
   "execution_count": 25,
   "metadata": {},
   "outputs": [
    {
     "name": "stdout",
     "output_type": "stream",
     "text": [
      "The minimum value element in the first tuple is Abiye\n",
      "The minimum value element in the second tuple is 15\n"
     ]
    }
   ],
   "source": [
    "# Using min() method\n",
    "minimum = min(namesOfSiblings)\n",
    "print(\"The minimum value element in the first tuple is\", minimum)\n",
    "\n",
    "minimum = min(ageOfSiblings)\n",
    "print(\"The minimum value element in the second tuple is\", minimum)"
   ]
  },
  {
   "cell_type": "code",
   "execution_count": 26,
   "metadata": {},
   "outputs": [
    {
     "name": "stdout",
     "output_type": "stream",
     "text": [
      "The result of family is ('Salome', 'Mariam', 'Zac', 'Sandra', 'Nengi', 'Abiye', 'Doug', 37, 35, 33, 31, 25, 23, 15)\n"
     ]
    }
   ],
   "source": [
    "# Using concatenation\n",
    "family = namesOfSiblings + ageOfSiblings\n",
    "print(\"The result of family is\", family)"
   ]
  },
  {
   "cell_type": "code",
   "execution_count": 27,
   "metadata": {},
   "outputs": [
    {
     "name": "stdout",
     "output_type": "stream",
     "text": [
      "['Abiye', 'Doug', 'Mariam', 'Nengi', 'Salome', 'Sandra', 'Zac']\n",
      "[15, 23, 25, 31, 33, 35, 37]\n"
     ]
    }
   ],
   "source": [
    "# Using sort() method\n",
    "sorted_namesOfSiblings = sorted(namesOfSiblings)\n",
    "print(sorted_namesOfSiblings)\n",
    "\n",
    "sorted_ageOfSiblings = sorted(ageOfSiblings)\n",
    "print(sorted_ageOfSiblings) \n",
    "\n",
    "#Note that namesOfSiblings and ageOfSiblings are sorted and returned as lists, because tuples are immutable and cannot be sorted in place."
   ]
  }
 ],
 "metadata": {
  "kernelspec": {
   "display_name": "base",
   "language": "python",
   "name": "python3"
  },
  "language_info": {
   "codemirror_mode": {
    "name": "ipython",
    "version": 3
   },
   "file_extension": ".py",
   "mimetype": "text/x-python",
   "name": "python",
   "nbconvert_exporter": "python",
   "pygments_lexer": "ipython3",
   "version": "3.9.13"
  },
  "orig_nbformat": 4,
  "vscode": {
   "interpreter": {
    "hash": "263930470851f494f0ed2879c35b57985588df20f9e529b86e97dd5eb9ddc466"
   }
  }
 },
 "nbformat": 4,
 "nbformat_minor": 2
}
